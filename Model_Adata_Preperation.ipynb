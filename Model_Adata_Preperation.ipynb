{
 "cells": [
  {
   "cell_type": "markdown",
   "metadata": {},
   "source": [
    "# Data Preperation for Models"
   ]
  },
  {
   "cell_type": "code",
   "execution_count": 53,
   "metadata": {},
   "outputs": [],
   "source": [
    "import warnings\n",
    "warnings.simplefilter(action='ignore', category=FutureWarning)\n",
    "warnings.simplefilter(action='ignore', category=UserWarning)\n",
    "\n",
    "import scanpy as sc\n",
    "import anndata\n",
    "import pandas as pd\n",
    "from matplotlib import rcParams"
   ]
  },
  {
   "cell_type": "markdown",
   "metadata": {},
   "source": [
    "## Creating the Figure 4 Adata Object"
   ]
  },
  {
   "cell_type": "code",
   "execution_count": null,
   "metadata": {},
   "outputs": [],
   "source": [
    "sc.settings.verbosity = 3\n",
    "sc.logging.print_header()\n",
    "sc.settings.set_figure_params(dpi=200, frameon=False, figsize=(3,3), facecolor = 'white', color_map = 'magma')\n",
    "\n",
    "adata = sc.read_csv('/Volumes/mgriffit/Active/griffithlab/gc2596/e.schmidt/fig4_foltz/SingleCell_ProbabilisticModels/data/fig4_data/csv/fig4_object_RNAcounts.csv')\n",
    "adata = adata.transpose()\n",
    "\n",
    "# inspect the barcodes\n",
    "print('RNA Indexes Before')\n",
    "print(adata.obs.index)\n",
    "# If there are X's\n",
    "adata.obs.index = adata.obs.index.str.replace('X', '') # note default value of regex changing in other versions, current default is True\n",
    "adata.obs.index = adata.obs.index.str.replace('\\.', '-', regex = True)\n",
    "print('RNA Indexes After')\n",
    "print(adata.obs.index)\n",
    "print()\n",
    "\n",
    "meta = pd.read_csv('/Volumes/mgriffit/Active/griffithlab/gc2596/e.schmidt/fig4_foltz/SingleCell_ProbabilisticModels/data/fig4_data/csv/fig4_object_meta.csv', index_col = 0)\n",
    "adata.obs = meta\n",
    "print('Meta Indexes')\n",
    "print(meta.index)\n",
    "print()\n",
    "\n",
    "\n",
    "# add protein data\n",
    "protein_adata = sc.read_csv('/Volumes/mgriffit/Active/griffithlab/gc2596/e.schmidt/fig4_foltz/SingleCell_ProbabilisticModels/data/fig4_data/csv/fig4_object_ADTcounts.csv')\n",
    "protein_adata = protein_adata.transpose()\n",
    "\n",
    "# inspect:\n",
    "print('Protein Indexes Before')\n",
    "print(protein_adata.obs.index)\n",
    "# if needed, uncomment lines 20 and 21\n",
    "protein_adata.obs.index = protein_adata.obs.index.str.replace('X', '') # note default value of regex changing in other versions, current default is True\n",
    "protein_adata.obs.index = protein_adata.obs.index.str.replace('\\.', '-', regex = True)\n",
    "print('Protein Indexes After')\n",
    "print(protein_adata.obs.index)\n",
    "print()\n",
    "protein_adata.obs = meta\n",
    "adata.obsm[\"protein_expression\"] = protein_adata.to_df()\n",
    "\n",
    "# now confirm equality in 2 ways!\n",
    "# first is sum where True is = 1 so if all equal should be the total length of the two indexes being compared\n",
    "print('Confirm the indexes are equal')\n",
    "print(sum(protein_adata.obs.index == adata.obs.index))\n",
    "print(sum(meta.index == adata.obs.index))\n",
    "print(sum(meta.index == protein_adata.obs.index))\n",
    "# and option 2 through pandas:\n",
    "print(protein_adata.obs.index.equals(adata.obs.index))\n",
    "print(protein_adata.obs.index.equals(meta.index))\n",
    "print(adata.obs.index.equals(meta.index))\n",
    "\n",
    "\n",
    "# remove mouse genes\n",
    "adata.var['mouse'] = adata.var_names.str.startswith('mm10')\n",
    "adata.var['mouse']\n",
    "adata = adata[:,~adata.var.mouse]\n",
    "\n",
    "\n",
    "sc.pl.highest_expr_genes(adata, n_top= 20)\n",
    "sc.pp.filter_genes(adata, min_cells = 10)\n",
    "\n",
    "adata.raw = adata\n",
    "\n",
    "adata.write('/Volumes/mgriffit/Active/griffithlab/gc2596/e.schmidt/fig4_foltz/SingleCell_ProbabilisticModels/data/fig4_data/adata/fig4_Protein_folzconversion.h5ad')"
   ]
  },
  {
   "cell_type": "markdown",
   "metadata": {},
   "source": [
    "## Creating Fig7 Adata Object\n",
    "This data set will be used as the query"
   ]
  },
  {
   "cell_type": "code",
   "execution_count": 54,
   "metadata": {},
   "outputs": [
    {
     "ename": "FileNotFoundError",
     "evalue": "[Errno 2] No such file or directory: 'data/fig7_data/csv/fig7_object_RNAcounts.csv'",
     "output_type": "error",
     "traceback": [
      "\u001b[0;31m---------------------------------------------------------------------------\u001b[0m",
      "\u001b[0;31mFileNotFoundError\u001b[0m                         Traceback (most recent call last)",
      "\u001b[1;32m/Volumes/mgriffit/Active/griffithlab/gc2596/e.schmidt/fig4_foltz/SingleCell_ProbabilisticModels/Model_Adata_Preperation.ipynb Cell 6\u001b[0m line \u001b[0;36m1\n\u001b[0;32m----> <a href='vscode-notebook-cell:/Volumes/mgriffit/Active/griffithlab/gc2596/e.schmidt/fig4_foltz/SingleCell_ProbabilisticModels/Model_Adata_Preperation.ipynb#W5sZmlsZQ%3D%3D?line=0'>1</a>\u001b[0m adata \u001b[39m=\u001b[39m sc\u001b[39m.\u001b[39;49mread_csv(\u001b[39m'\u001b[39;49m\u001b[39mdata/fig7_data/csv/fig7_object_RNAcounts.csv\u001b[39;49m\u001b[39m'\u001b[39;49m)\n\u001b[1;32m      <a href='vscode-notebook-cell:/Volumes/mgriffit/Active/griffithlab/gc2596/e.schmidt/fig4_foltz/SingleCell_ProbabilisticModels/Model_Adata_Preperation.ipynb#W5sZmlsZQ%3D%3D?line=1'>2</a>\u001b[0m adata \u001b[39m=\u001b[39m adata\u001b[39m.\u001b[39mtranspose()\n\u001b[1;32m      <a href='vscode-notebook-cell:/Volumes/mgriffit/Active/griffithlab/gc2596/e.schmidt/fig4_foltz/SingleCell_ProbabilisticModels/Model_Adata_Preperation.ipynb#W5sZmlsZQ%3D%3D?line=3'>4</a>\u001b[0m \u001b[39m# inspect the barcodes\u001b[39;00m\n",
      "File \u001b[0;32m/opt/homebrew/lib/python3.11/site-packages/anndata/_io/read.py:54\u001b[0m, in \u001b[0;36mread_csv\u001b[0;34m(filename, delimiter, first_column_names, dtype)\u001b[0m\n\u001b[1;32m     30\u001b[0m \u001b[39mdef\u001b[39;00m \u001b[39mread_csv\u001b[39m(\n\u001b[1;32m     31\u001b[0m     filename: Union[PathLike, Iterator[\u001b[39mstr\u001b[39m]],\n\u001b[1;32m     32\u001b[0m     delimiter: Optional[\u001b[39mstr\u001b[39m] \u001b[39m=\u001b[39m \u001b[39m\"\u001b[39m\u001b[39m,\u001b[39m\u001b[39m\"\u001b[39m,\n\u001b[1;32m     33\u001b[0m     first_column_names: Optional[\u001b[39mbool\u001b[39m] \u001b[39m=\u001b[39m \u001b[39mNone\u001b[39;00m,\n\u001b[1;32m     34\u001b[0m     dtype: \u001b[39mstr\u001b[39m \u001b[39m=\u001b[39m \u001b[39m\"\u001b[39m\u001b[39mfloat32\u001b[39m\u001b[39m\"\u001b[39m,\n\u001b[1;32m     35\u001b[0m ) \u001b[39m-\u001b[39m\u001b[39m>\u001b[39m AnnData:\n\u001b[1;32m     36\u001b[0m \u001b[39m    \u001b[39m\u001b[39m\"\"\"\\\u001b[39;00m\n\u001b[1;32m     37\u001b[0m \u001b[39m    Read `.csv` file.\u001b[39;00m\n\u001b[1;32m     38\u001b[0m \n\u001b[0;32m   (...)\u001b[0m\n\u001b[1;32m     52\u001b[0m \u001b[39m        Numpy data type.\u001b[39;00m\n\u001b[1;32m     53\u001b[0m \u001b[39m    \"\"\"\u001b[39;00m\n\u001b[0;32m---> 54\u001b[0m     \u001b[39mreturn\u001b[39;00m read_text(filename, delimiter, first_column_names, dtype)\n",
      "File \u001b[0;32m/opt/homebrew/lib/python3.11/site-packages/anndata/_io/read.py:358\u001b[0m, in \u001b[0;36mread_text\u001b[0;34m(filename, delimiter, first_column_names, dtype)\u001b[0m\n\u001b[1;32m    356\u001b[0m         \u001b[39mreturn\u001b[39;00m _read_text(f, delimiter, first_column_names, dtype)\n\u001b[1;32m    357\u001b[0m \u001b[39melse\u001b[39;00m:\n\u001b[0;32m--> 358\u001b[0m     \u001b[39mwith\u001b[39;00m filename\u001b[39m.\u001b[39;49mopen() \u001b[39mas\u001b[39;00m f:\n\u001b[1;32m    359\u001b[0m         \u001b[39mreturn\u001b[39;00m _read_text(f, delimiter, first_column_names, dtype)\n",
      "File \u001b[0;32m/opt/homebrew/Cellar/python@3.11/3.11.4_1/Frameworks/Python.framework/Versions/3.11/lib/python3.11/pathlib.py:1044\u001b[0m, in \u001b[0;36mPath.open\u001b[0;34m(self, mode, buffering, encoding, errors, newline)\u001b[0m\n\u001b[1;32m   1042\u001b[0m \u001b[39mif\u001b[39;00m \u001b[39m\"\u001b[39m\u001b[39mb\u001b[39m\u001b[39m\"\u001b[39m \u001b[39mnot\u001b[39;00m \u001b[39min\u001b[39;00m mode:\n\u001b[1;32m   1043\u001b[0m     encoding \u001b[39m=\u001b[39m io\u001b[39m.\u001b[39mtext_encoding(encoding)\n\u001b[0;32m-> 1044\u001b[0m \u001b[39mreturn\u001b[39;00m io\u001b[39m.\u001b[39mopen(\u001b[39mself\u001b[39m, mode, buffering, encoding, errors, newline)\n",
      "\u001b[0;31mFileNotFoundError\u001b[0m: [Errno 2] No such file or directory: 'data/fig7_data/csv/fig7_object_RNAcounts.csv'"
     ]
    }
   ],
   "source": [
    "adata = sc.read_csv('/Volumes/mgriffit/Active/griffithlab/gc2596/e.schmidt/fig4_foltz/SingleCell_ProbabilisticModels/data/fig7_data/csv/fig7_object_RNAcounts.csv')\n",
    "adata = adata.transpose()\n",
    "\n",
    "# inspect the barcodes\n",
    "print('RNA Indexes Before')\n",
    "print(adata.obs.index)\n",
    "# If there are X's\n",
    "adata.obs.index = adata.obs.index.str.replace('X', '') # note default value of regex changing in other versions, current default is True\n",
    "adata.obs.index = adata.obs.index.str.replace('\\.', '-', regex = True)\n",
    "print('RNA Indexes After')\n",
    "print(adata.obs.index)\n",
    "print()\n",
    "\n",
    "meta = pd.read_csv('/Volumes/mgriffit/Active/griffithlab/gc2596/e.schmidt/fig4_foltz/SingleCell_ProbabilisticModels/data/fig7_data/csv/fig7_object_meta.csv', index_col = 0)\n",
    "adata.obs = meta\n",
    "print('Meta Indexes')\n",
    "print(meta.index)\n",
    "print()\n",
    "\n",
    "# add protein data\n",
    "protein = sc.read_csv('/Volumes/mgriffit/Active/griffithlab/gc2596/e.schmidt/fig4_foltz/SingleCell_ProbabilisticModels/data/fig7_data/csv/fig7_object_ADTcounts.csv')\n",
    "protein = protein.transpose()\n",
    "\n",
    "# inspect:\n",
    "print('Protein Indexes Before')\n",
    "print(protein.obs.index)\n",
    "# if needed, uncomment lines 20 and 21\n",
    "protein.obs.index = protein.obs.index.str.replace('X', '') # note default value of regex changing in other versions, current default is True\n",
    "protein.obs.index = protein.obs.index.str.replace('\\.', '-', regex = True)\n",
    "print('Protein Indexes After')\n",
    "print(protein.obs.index)\n",
    "print()\n",
    "protein.obs = meta\n",
    "adata.obsm[\"protein_expression\"] = protein.to_df()\n",
    "\n",
    "\n",
    "# now confirm equality in 2 ways!\n",
    "# first is sum where True is = 1 so if all equal should be the total length of the two indexes being compared\n",
    "print('Confirm the indexes are equal')\n",
    "print(sum(protein.obs.index == adata.obs.index))\n",
    "print(sum(meta.index == adata.obs.index))\n",
    "print(sum(meta.index == protein.obs.index))\n",
    "# and option 2 through pandas:\n",
    "print(protein.obs.index.equals(adata.obs.index))\n",
    "print(protein.obs.index.equals(meta.index))\n",
    "print(adata.obs.index.equals(meta.index))\n",
    "\n",
    "\n",
    "# remove mouse genes\n",
    "adata.var['mouse'] = adata.var_names.str.startswith('mm10')\n",
    "adata.var['mouse']\n",
    "adata = adata[:,~adata.var.mouse]\n",
    "\n",
    "\n",
    "sc.pl.highest_expr_genes(adata, n_top= 20, save = \"genes.png\")\n",
    "sc.pp.filter_genes(adata, min_cells = 10)\n",
    "\n",
    "adata.raw = adata\n",
    "\n",
    "adata.write('/Volumes/mgriffit/Active/griffithlab/gc2596/e.schmidt/fig4_foltz/SingleCell_ProbabilisticModels/data/fig7_data/adata/fig7_Protein_folzconversion.h5ad')"
   ]
  },
  {
   "cell_type": "markdown",
   "metadata": {},
   "source": [
    "# Preperation"
   ]
  },
  {
   "cell_type": "code",
   "execution_count": 56,
   "metadata": {},
   "outputs": [],
   "source": [
    "\n",
    "adata = sc.read('/Volumes/mgriffit/Active/griffithlab/gc2596/e.schmidt/fig4_foltz/SingleCell_ProbabilisticModels/data/fig4_data/adata/fig4_Protein_folzconversion.h5ad')\n"
   ]
  },
  {
   "cell_type": "code",
   "execution_count": null,
   "metadata": {},
   "outputs": [],
   "source": [
    "adata"
   ]
  },
  {
   "cell_type": "code",
   "execution_count": null,
   "metadata": {},
   "outputs": [],
   "source": [
    "query_offline = sc.read('/Volumes/mgriffit/Active/griffithlab/gc2596/e.schmidt/fig4_foltz/SingleCell_ProbabilisticModels/data/fig4_data/adata/fig7_Protein_folzconversion.h5ad')\n",
    "query_offline.layers[\"counts\"] = query_offline.X.copy()\n",
    "query_offline.raw = query_offline"
   ]
  },
  {
   "cell_type": "code",
   "execution_count": null,
   "metadata": {},
   "outputs": [],
   "source": [
    "query_offline"
   ]
  },
  {
   "cell_type": "markdown",
   "metadata": {},
   "source": [
    "### Make sure both datasets have the same proteins"
   ]
  },
  {
   "cell_type": "code",
   "execution_count": null,
   "metadata": {},
   "outputs": [],
   "source": [
    "adata.obsm[\"protein_expression\"].columns"
   ]
  },
  {
   "cell_type": "code",
   "execution_count": null,
   "metadata": {},
   "outputs": [],
   "source": [
    "protiens_to_check = ['IgG2aADT', 'IgG2bADT', 'IgG1ADT', 'PD-1ADT', 'CD8ADT']\n"
   ]
  },
  {
   "cell_type": "code",
   "execution_count": null,
   "metadata": {},
   "outputs": [],
   "source": [
    "adata.obsm[\"protein_expression\"].columns"
   ]
  },
  {
   "cell_type": "code",
   "execution_count": null,
   "metadata": {},
   "outputs": [],
   "source": [
    "adata.obsm[\"protein_expression\"] = adata.obsm[\"protein_expression\"][adata.obsm[\"protein_expression\"].columns.difference(protiens_to_check)]"
   ]
  },
  {
   "cell_type": "code",
   "execution_count": null,
   "metadata": {},
   "outputs": [],
   "source": [
    "adata.obsm[\"protein_expression\"].columns"
   ]
  },
  {
   "cell_type": "code",
   "execution_count": null,
   "metadata": {},
   "outputs": [],
   "source": [
    "query_offline.obsm[\"protein_expression\"].columns"
   ]
  },
  {
   "cell_type": "code",
   "execution_count": null,
   "metadata": {},
   "outputs": [],
   "source": [
    "query_offline.obsm[\"protein_expression\"].columns.str.replace(r'-ADT', 'ADT')"
   ]
  },
  {
   "cell_type": "code",
   "execution_count": null,
   "metadata": {},
   "outputs": [],
   "source": [
    "# Create a new DataFrame with modified column names\n",
    "new_columns = query_offline.obsm[\"protein_expression\"].columns.str.replace(r'-ADT', 'ADT')\n",
    "new_protein_expression = query_offline.obsm[\"protein_expression\"].copy()\n",
    "new_protein_expression.columns = new_columns\n",
    "\n",
    "# Update the AnnData object with the new DataFrame\n",
    "query_offline.obsm[\"protein_expression\"] = new_protein_expression"
   ]
  },
  {
   "cell_type": "code",
   "execution_count": null,
   "metadata": {},
   "outputs": [],
   "source": [
    "query_offline.obsm[\"protein_expression\"].columns"
   ]
  },
  {
   "cell_type": "code",
   "execution_count": null,
   "metadata": {},
   "outputs": [],
   "source": [
    "query_offline.obsm[\"protein_expression\"] = query_offline.obsm[\"protein_expression\"][query_offline.obsm[\"protein_expression\"].columns.difference(protiens_to_check)]"
   ]
  },
  {
   "cell_type": "code",
   "execution_count": null,
   "metadata": {},
   "outputs": [],
   "source": [
    "query_offline.obsm[\"protein_expression\"].columns"
   ]
  },
  {
   "cell_type": "code",
   "execution_count": null,
   "metadata": {},
   "outputs": [],
   "source": [
    "adata.obsm[\"protein_expression\"].columns"
   ]
  },
  {
   "cell_type": "code",
   "execution_count": null,
   "metadata": {},
   "outputs": [],
   "source": [
    "ref_proteins = adata.obsm[\"protein_expression\"].columns\n",
    "query_proteins = query_offline.obsm[\"protein_expression\"].columns\n",
    "\n",
    "proteins_in_common = ref_proteins.intersection(query_proteins)"
   ]
  },
  {
   "cell_type": "code",
   "execution_count": null,
   "metadata": {},
   "outputs": [],
   "source": [
    "print(len(ref_proteins))\n",
    "print(len(query_proteins))\n",
    "print(len(proteins_in_common))"
   ]
  },
  {
   "cell_type": "code",
   "execution_count": null,
   "metadata": {},
   "outputs": [],
   "source": [
    "query_offline.obsm[\"protein_expression\"].columns"
   ]
  },
  {
   "cell_type": "code",
   "execution_count": null,
   "metadata": {},
   "outputs": [],
   "source": [
    "ref_genes = adata.var_names\n",
    "query_genes = query_offline.var_names\n",
    "\n",
    "genes_in_common = ref_genes.intersection(query_genes)"
   ]
  },
  {
   "cell_type": "code",
   "execution_count": null,
   "metadata": {},
   "outputs": [],
   "source": [
    "genes_in_common"
   ]
  },
  {
   "cell_type": "code",
   "execution_count": null,
   "metadata": {},
   "outputs": [],
   "source": [
    "adata = adata[:, adata.var_names.isin(genes_in_common)]\n",
    "query_offline = query_offline[:, query_offline.var_names.isin(genes_in_common)]"
   ]
  },
  {
   "cell_type": "code",
   "execution_count": null,
   "metadata": {},
   "outputs": [],
   "source": [
    "adata.var_names"
   ]
  },
  {
   "cell_type": "code",
   "execution_count": null,
   "metadata": {},
   "outputs": [],
   "source": [
    "query_offline.var_names"
   ]
  },
  {
   "cell_type": "markdown",
   "metadata": {},
   "source": [
    "### Add the Correct CellType Identification from the orginal query dataset"
   ]
  },
  {
   "cell_type": "code",
   "execution_count": null,
   "metadata": {},
   "outputs": [],
   "source": [
    "query_offline"
   ]
  },
  {
   "cell_type": "code",
   "execution_count": null,
   "metadata": {},
   "outputs": [],
   "source": [
    "full_query = sc.read('/Volumes/mgriffit/Active/griffithlab/gc2596/e.schmidt/fig4_foltz/SingleCell_ProbabilisticModels/data/fig7_data/adata/fig7_k562_pagaobject3223withleiden31423pagaonleidenclusters_RAW.h5ad')"
   ]
  },
  {
   "cell_type": "code",
   "execution_count": null,
   "metadata": {},
   "outputs": [],
   "source": [
    "query_offline.obs['batch'] = full_query.obs['orig.ident']"
   ]
  },
  {
   "cell_type": "code",
   "execution_count": null,
   "metadata": {},
   "outputs": [],
   "source": [
    "full_query.obs[\"orig.ident\"]"
   ]
  },
  {
   "cell_type": "code",
   "execution_count": null,
   "metadata": {},
   "outputs": [],
   "source": [
    "query_offline.obs['leiden'] = full_query.obs['leiden'].astype(\"int64\")"
   ]
  },
  {
   "cell_type": "code",
   "execution_count": null,
   "metadata": {},
   "outputs": [],
   "source": [
    "query_offline.obs['leiden']"
   ]
  },
  {
   "cell_type": "markdown",
   "metadata": {},
   "source": [
    "### Rename the clusters with the names of the Cell Types "
   ]
  },
  {
   "cell_type": "code",
   "execution_count": null,
   "metadata": {},
   "outputs": [],
   "source": [
    "query_offline.obs['leiden'] = query_offline.obs['leiden'].replace({\n",
    "        0: \"CD56dim\",\n",
    "        1: \"CD56dim\",\n",
    "        2: \"ML2\",\n",
    "        3: \"CD56dim\",\n",
    "        4: \"CD56dim\",\n",
    "        5: \"ML1\",\n",
    "        6: \"CD56dim\",\n",
    "        7: \"CD56dim\",\n",
    "        8: \"CD56dim\",\n",
    "        9: \"CD56bright\",\n",
    "        10: \"Proliferating\", \n",
    "        11: \"CD56dim\", \n",
    "        12: \"ML1\", \n",
    "        13: \"ML1\", \n",
    "        14: \"Proliferating\", \n",
    "        15: \"nonNK\",\n",
    "        16: \"CD56bright\",\n",
    "        17: \"trans\"\n",
    "    })\n",
    "\n",
    "\n",
    "query_offline.obs['leiden'] = query_offline.obs['leiden'].astype(\"category\")"
   ]
  },
  {
   "cell_type": "code",
   "execution_count": null,
   "metadata": {},
   "outputs": [],
   "source": [
    "query_offline.obs['leiden']"
   ]
  },
  {
   "cell_type": "code",
   "execution_count": null,
   "metadata": {},
   "outputs": [],
   "source": [
    "adata.obs[\"seurat_clusters\"]"
   ]
  },
  {
   "cell_type": "code",
   "execution_count": null,
   "metadata": {},
   "outputs": [],
   "source": [
    "adata.obs[\"seurat_clusters\"] = adata.obs[\"seurat_clusters\"].replace({\n",
    "        0: \"CD56dim\",\n",
    "        1: \"ML1\",\n",
    "        2: \"ML2\",\n",
    "        3: \"CD56bright\",\n",
    "        4: \"CD56dim\",\n",
    "        5: \"NKG2Cpos\",\n",
    "        6: \"Proliferating1\",\n",
    "        7: \"CD56dim\",\n",
    "        8: \"Proliferating2\",\n",
    "        9: \"nonNK\"\n",
    "    })\n",
    "\n",
    "adata.obs[\"seurat_clusters\"] = adata.obs[\"seurat_clusters\"].astype(\"category\")\n",
    "adata.obs[\"celltype.l2\"] = adata.obs[\"seurat_clusters\"].copy()"
   ]
  },
  {
   "cell_type": "code",
   "execution_count": null,
   "metadata": {},
   "outputs": [],
   "source": [
    "adata.obs[\"seurat_clusters\"]"
   ]
  },
  {
   "cell_type": "markdown",
   "metadata": {},
   "source": [
    "### Split dataset in the separate batches"
   ]
  },
  {
   "cell_type": "code",
   "execution_count": null,
   "metadata": {},
   "outputs": [],
   "source": [
    "adata_3228 = adata[adata.obs['orig.ident'].isin([3228])].copy()\n",
    "adata_3228.obs[\"batch\"] = \"3228\"\n",
    "adata_730 = adata[adata.obs['orig.ident'].isin([730])].copy()\n",
    "adata_730.obs[\"batch\"] = \"730\"\n",
    "adata_451 = adata[adata.obs['orig.ident'].isin([451])].copy()\n",
    "adata_451.obs[\"batch\"] = \"451\"\n",
    "\n",
    "adata_full = anndata.concat([adata_3228, adata_730, adata_451])\n",
    "adata_full.obs['batch'] = adata_full.obs['batch'].astype(\"category\")"
   ]
  },
  {
   "cell_type": "code",
   "execution_count": null,
   "metadata": {},
   "outputs": [],
   "source": [
    "adata_full.obs['batch']"
   ]
  },
  {
   "cell_type": "markdown",
   "metadata": {},
   "source": [
    "### Write object for SCANVI Model"
   ]
  },
  {
   "cell_type": "code",
   "execution_count": null,
   "metadata": {},
   "outputs": [],
   "source": [
    "adata_full.write_h5ad(\n",
    "    \"/Volumes/mgriffit/Active/griffithlab/gc2596/e.schmidt/fig4_foltz/SingleCell_ProbabilisticModels/data/fig4_data/adata/fig4_Protein_folzconversion_prepped.h5ad\" \n",
    ")"
   ]
  },
  {
   "cell_type": "code",
   "execution_count": null,
   "metadata": {},
   "outputs": [],
   "source": [
    "query_offline.write_h5ad(\n",
    "    \"/Volumes/mgriffit/Active/griffithlab/gc2596/e.schmidt/fig4_foltz/SingleCell_ProbabilisticModels/data/fig7_data/adata/fig7_Protein_folzconversion_prepped.h5ad\" \n",
    ")"
   ]
  }
 ],
 "metadata": {
  "kernelspec": {
   "display_name": "Python 3",
   "language": "python",
   "name": "python3"
  },
  "language_info": {
   "codemirror_mode": {
    "name": "ipython",
    "version": 3
   },
   "file_extension": ".py",
   "mimetype": "text/x-python",
   "name": "python",
   "nbconvert_exporter": "python",
   "pygments_lexer": "ipython3",
   "version": "3.11.4"
  }
 },
 "nbformat": 4,
 "nbformat_minor": 2
}
